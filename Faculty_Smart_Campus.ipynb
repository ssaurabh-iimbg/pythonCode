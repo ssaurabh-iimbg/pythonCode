{
  "nbformat": 4,
  "nbformat_minor": 0,
  "metadata": {
    "colab": {
      "provenance": [],
      "include_colab_link": true
    },
    "kernelspec": {
      "name": "python3",
      "display_name": "Python 3"
    },
    "language_info": {
      "name": "python"
    }
  },
  "cells": [
    {
      "cell_type": "markdown",
      "metadata": {
        "id": "view-in-github",
        "colab_type": "text"
      },
      "source": [
        "<a href=\"https://colab.research.google.com/github/ssaurabh-iimbg/pythonCode/blob/main/Faculty_Smart_Campus.ipynb\" target=\"_parent\"><img src=\"https://colab.research.google.com/assets/colab-badge.svg\" alt=\"Open In Colab\"/></a>"
      ]
    },
    {
      "cell_type": "code",
      "execution_count": null,
      "metadata": {
        "id": "RhmWhkORWXnY"
      },
      "outputs": [],
      "source": [
        "import pandas as pd\n",
        "import numpy as np"
      ]
    },
    {
      "cell_type": "code",
      "source": [
        "from google.colab import drive\n",
        "drive.mount('/content/drive')\n"
      ],
      "metadata": {
        "colab": {
          "base_uri": "https://localhost:8080/"
        },
        "id": "Jk1MadW8WZHz",
        "outputId": "0f6758fc-b499-4737-af62-e47eeda5cf82"
      },
      "execution_count": null,
      "outputs": [
        {
          "output_type": "stream",
          "name": "stdout",
          "text": [
            "Mounted at /content/drive\n"
          ]
        }
      ]
    },
    {
      "cell_type": "code",
      "source": [
        "from google.colab import files\n",
        "uploaded = files.upload()"
      ],
      "metadata": {
        "colab": {
          "base_uri": "https://localhost:8080/",
          "height": 73
        },
        "id": "8Fhm9_fqWa4Q",
        "outputId": "7ca0286c-d466-4346-996d-d4810a51a871"
      },
      "execution_count": null,
      "outputs": [
        {
          "output_type": "display_data",
          "data": {
            "text/plain": [
              "<IPython.core.display.HTML object>"
            ],
            "text/html": [
              "\n",
              "     <input type=\"file\" id=\"files-c97b82c1-d54d-43df-819e-e4145f54048b\" name=\"files[]\" multiple disabled\n",
              "        style=\"border:none\" />\n",
              "     <output id=\"result-c97b82c1-d54d-43df-819e-e4145f54048b\">\n",
              "      Upload widget is only available when the cell has been executed in the\n",
              "      current browser session. Please rerun this cell to enable.\n",
              "      </output>\n",
              "      <script>// Copyright 2017 Google LLC\n",
              "//\n",
              "// Licensed under the Apache License, Version 2.0 (the \"License\");\n",
              "// you may not use this file except in compliance with the License.\n",
              "// You may obtain a copy of the License at\n",
              "//\n",
              "//      http://www.apache.org/licenses/LICENSE-2.0\n",
              "//\n",
              "// Unless required by applicable law or agreed to in writing, software\n",
              "// distributed under the License is distributed on an \"AS IS\" BASIS,\n",
              "// WITHOUT WARRANTIES OR CONDITIONS OF ANY KIND, either express or implied.\n",
              "// See the License for the specific language governing permissions and\n",
              "// limitations under the License.\n",
              "\n",
              "/**\n",
              " * @fileoverview Helpers for google.colab Python module.\n",
              " */\n",
              "(function(scope) {\n",
              "function span(text, styleAttributes = {}) {\n",
              "  const element = document.createElement('span');\n",
              "  element.textContent = text;\n",
              "  for (const key of Object.keys(styleAttributes)) {\n",
              "    element.style[key] = styleAttributes[key];\n",
              "  }\n",
              "  return element;\n",
              "}\n",
              "\n",
              "// Max number of bytes which will be uploaded at a time.\n",
              "const MAX_PAYLOAD_SIZE = 100 * 1024;\n",
              "\n",
              "function _uploadFiles(inputId, outputId) {\n",
              "  const steps = uploadFilesStep(inputId, outputId);\n",
              "  const outputElement = document.getElementById(outputId);\n",
              "  // Cache steps on the outputElement to make it available for the next call\n",
              "  // to uploadFilesContinue from Python.\n",
              "  outputElement.steps = steps;\n",
              "\n",
              "  return _uploadFilesContinue(outputId);\n",
              "}\n",
              "\n",
              "// This is roughly an async generator (not supported in the browser yet),\n",
              "// where there are multiple asynchronous steps and the Python side is going\n",
              "// to poll for completion of each step.\n",
              "// This uses a Promise to block the python side on completion of each step,\n",
              "// then passes the result of the previous step as the input to the next step.\n",
              "function _uploadFilesContinue(outputId) {\n",
              "  const outputElement = document.getElementById(outputId);\n",
              "  const steps = outputElement.steps;\n",
              "\n",
              "  const next = steps.next(outputElement.lastPromiseValue);\n",
              "  return Promise.resolve(next.value.promise).then((value) => {\n",
              "    // Cache the last promise value to make it available to the next\n",
              "    // step of the generator.\n",
              "    outputElement.lastPromiseValue = value;\n",
              "    return next.value.response;\n",
              "  });\n",
              "}\n",
              "\n",
              "/**\n",
              " * Generator function which is called between each async step of the upload\n",
              " * process.\n",
              " * @param {string} inputId Element ID of the input file picker element.\n",
              " * @param {string} outputId Element ID of the output display.\n",
              " * @return {!Iterable<!Object>} Iterable of next steps.\n",
              " */\n",
              "function* uploadFilesStep(inputId, outputId) {\n",
              "  const inputElement = document.getElementById(inputId);\n",
              "  inputElement.disabled = false;\n",
              "\n",
              "  const outputElement = document.getElementById(outputId);\n",
              "  outputElement.innerHTML = '';\n",
              "\n",
              "  const pickedPromise = new Promise((resolve) => {\n",
              "    inputElement.addEventListener('change', (e) => {\n",
              "      resolve(e.target.files);\n",
              "    });\n",
              "  });\n",
              "\n",
              "  const cancel = document.createElement('button');\n",
              "  inputElement.parentElement.appendChild(cancel);\n",
              "  cancel.textContent = 'Cancel upload';\n",
              "  const cancelPromise = new Promise((resolve) => {\n",
              "    cancel.onclick = () => {\n",
              "      resolve(null);\n",
              "    };\n",
              "  });\n",
              "\n",
              "  // Wait for the user to pick the files.\n",
              "  const files = yield {\n",
              "    promise: Promise.race([pickedPromise, cancelPromise]),\n",
              "    response: {\n",
              "      action: 'starting',\n",
              "    }\n",
              "  };\n",
              "\n",
              "  cancel.remove();\n",
              "\n",
              "  // Disable the input element since further picks are not allowed.\n",
              "  inputElement.disabled = true;\n",
              "\n",
              "  if (!files) {\n",
              "    return {\n",
              "      response: {\n",
              "        action: 'complete',\n",
              "      }\n",
              "    };\n",
              "  }\n",
              "\n",
              "  for (const file of files) {\n",
              "    const li = document.createElement('li');\n",
              "    li.append(span(file.name, {fontWeight: 'bold'}));\n",
              "    li.append(span(\n",
              "        `(${file.type || 'n/a'}) - ${file.size} bytes, ` +\n",
              "        `last modified: ${\n",
              "            file.lastModifiedDate ? file.lastModifiedDate.toLocaleDateString() :\n",
              "                                    'n/a'} - `));\n",
              "    const percent = span('0% done');\n",
              "    li.appendChild(percent);\n",
              "\n",
              "    outputElement.appendChild(li);\n",
              "\n",
              "    const fileDataPromise = new Promise((resolve) => {\n",
              "      const reader = new FileReader();\n",
              "      reader.onload = (e) => {\n",
              "        resolve(e.target.result);\n",
              "      };\n",
              "      reader.readAsArrayBuffer(file);\n",
              "    });\n",
              "    // Wait for the data to be ready.\n",
              "    let fileData = yield {\n",
              "      promise: fileDataPromise,\n",
              "      response: {\n",
              "        action: 'continue',\n",
              "      }\n",
              "    };\n",
              "\n",
              "    // Use a chunked sending to avoid message size limits. See b/62115660.\n",
              "    let position = 0;\n",
              "    do {\n",
              "      const length = Math.min(fileData.byteLength - position, MAX_PAYLOAD_SIZE);\n",
              "      const chunk = new Uint8Array(fileData, position, length);\n",
              "      position += length;\n",
              "\n",
              "      const base64 = btoa(String.fromCharCode.apply(null, chunk));\n",
              "      yield {\n",
              "        response: {\n",
              "          action: 'append',\n",
              "          file: file.name,\n",
              "          data: base64,\n",
              "        },\n",
              "      };\n",
              "\n",
              "      let percentDone = fileData.byteLength === 0 ?\n",
              "          100 :\n",
              "          Math.round((position / fileData.byteLength) * 100);\n",
              "      percent.textContent = `${percentDone}% done`;\n",
              "\n",
              "    } while (position < fileData.byteLength);\n",
              "  }\n",
              "\n",
              "  // All done.\n",
              "  yield {\n",
              "    response: {\n",
              "      action: 'complete',\n",
              "    }\n",
              "  };\n",
              "}\n",
              "\n",
              "scope.google = scope.google || {};\n",
              "scope.google.colab = scope.google.colab || {};\n",
              "scope.google.colab._files = {\n",
              "  _uploadFiles,\n",
              "  _uploadFilesContinue,\n",
              "};\n",
              "})(self);\n",
              "</script> "
            ]
          },
          "metadata": {}
        },
        {
          "output_type": "stream",
          "name": "stdout",
          "text": [
            "Saving Faculty_Smart_Campus - Sheet1.csv to Faculty_Smart_Campus - Sheet1.csv\n"
          ]
        }
      ]
    },
    {
      "cell_type": "code",
      "source": [
        "import pandas as pd\n",
        "data = pd.read_csv('Faculty_Smart_Campus - Sheet1.csv')"
      ],
      "metadata": {
        "id": "c1zH0rmZWlPl"
      },
      "execution_count": null,
      "outputs": []
    },
    {
      "cell_type": "code",
      "source": [
        "print(data)"
      ],
      "metadata": {
        "colab": {
          "base_uri": "https://localhost:8080/"
        },
        "id": "BCFi2CTGW8TS",
        "outputId": "446b3e66-1292-43b6-fc77-6a8ba2c45021"
      },
      "execution_count": null,
      "outputs": [
        {
          "output_type": "stream",
          "name": "stdout",
          "text": [
            "   Learning and Teaching Infrastructure and Operations  \\\n",
            "0                   Best                          Best   \n",
            "1                   Best                        Better   \n",
            "2                   Best                          Good   \n",
            "3                 Better                          Best   \n",
            "4                   Best                          Best   \n",
            "5                 Better                        Better   \n",
            "6                 Better                          Good   \n",
            "7                   Best                        Better   \n",
            "8                   Good                        Better   \n",
            "9                 Better                        Better   \n",
            "10                  Best                          Good   \n",
            "11                Better                        Better   \n",
            "12                  Good                        Better   \n",
            "13                Better                          Good   \n",
            "14                  Best                          Good   \n",
            "15                  Good                        Better   \n",
            "16                  Best                          Good   \n",
            "17                  Best                        Better   \n",
            "18                Better                        Better   \n",
            "19                Better                        Better   \n",
            "\n",
            "   Governance and Administration Student Life and Engagement  \\\n",
            "0                      Excellent                   Excellent   \n",
            "1                           Good                   Excellent   \n",
            "2                           Good                        Good   \n",
            "3                           Good                        Good   \n",
            "4                           Good                        Good   \n",
            "5                      Excellent                   Excellent   \n",
            "6                           Good                        Good   \n",
            "7                      Excellent                        Good   \n",
            "8                      Excellent                        Good   \n",
            "9                      Excellent                   Excellent   \n",
            "10                     Excellent                        Good   \n",
            "11                     Excellent                        Good   \n",
            "12                     Excellent                   Excellent   \n",
            "13                     Excellent                   Excellent   \n",
            "14                     Excellent                   Excellent   \n",
            "15                          Good                   Excellent   \n",
            "16                          Good                   Excellent   \n",
            "17                          Good                   Excellent   \n",
            "18                          Good                        Good   \n",
            "19                          Good                   Excellent   \n",
            "\n",
            "   Sustainability and Environmental Responsibility    Cost  Rating  \n",
            "0                                        Excellent  Medium      93  \n",
            "1                                             Good     Low      81  \n",
            "2                                        Excellent    High      65  \n",
            "3                                        Excellent  Medium      78  \n",
            "4                                        Excellent    High      80  \n",
            "5                                        Excellent  Medium      87  \n",
            "6                                        Excellent     Low      79  \n",
            "7                                             Good  Medium      82  \n",
            "8                                        Excellent     Low      75  \n",
            "9                                        Excellent    High      80  \n",
            "10                                       Excellent     Low      87  \n",
            "11                                       Excellent     Low      87  \n",
            "12                                       Excellent  Medium      85  \n",
            "13                                            Good    High      68  \n",
            "14                                            Good     Low      87  \n",
            "15                                            Good     Low      75  \n",
            "16                                       Excellent  Medium      81  \n",
            "17                                            Good    High      68  \n",
            "18                                            Good     Low      70  \n",
            "19                                       Excellent     Low      76  \n"
          ]
        }
      ]
    },
    {
      "cell_type": "code",
      "source": [
        "import statsmodels.api as sm\n",
        "import statsmodels.formula.api as smf\n",
        "\n",
        "data.columns = [col.replace(' ', '_').replace(',', '') for col in data.columns]\n",
        "\n",
        "model_formula = 'Rating ~ C(Learning_and_Teaching) + C(Infrastructure_and_Operations) + C(Governance_and_Administration) + C(Student_Life_and_Engagement) + C(Sustainability_and_Environmental_Responsibility) + C(Cost)'\n",
        "\n",
        "model_fit = smf.ols(model_formula, data=data).fit()\n",
        "\n",
        "print(model_fit.summary())\n"
      ],
      "metadata": {
        "colab": {
          "base_uri": "https://localhost:8080/"
        },
        "id": "3QCrE_FKW_wM",
        "outputId": "9264610c-4005-4678-f9a3-101a27649a58"
      },
      "execution_count": null,
      "outputs": [
        {
          "output_type": "stream",
          "name": "stdout",
          "text": [
            "                            OLS Regression Results                            \n",
            "==============================================================================\n",
            "Dep. Variable:                 Rating   R-squared:                       0.853\n",
            "Model:                            OLS   Adj. R-squared:                  0.721\n",
            "Method:                 Least Squares   F-statistic:                     6.445\n",
            "Date:                Tue, 12 Mar 2024   Prob (F-statistic):            0.00373\n",
            "Time:                        15:51:06   Log-Likelihood:                -48.980\n",
            "No. Observations:                  20   AIC:                             118.0\n",
            "Df Residuals:                      10   BIC:                             127.9\n",
            "Df Model:                           9                                         \n",
            "Covariance Type:            nonrobust                                         \n",
            "==============================================================================================================================\n",
            "                                                                 coef    std err          t      P>|t|      [0.025      0.975]\n",
            "------------------------------------------------------------------------------------------------------------------------------\n",
            "Intercept                                                     87.2328      3.662     23.818      0.000      79.072      95.393\n",
            "C(Learning_and_Teaching)[T.Better]                            -4.4533      2.137     -2.084      0.064      -9.214       0.308\n",
            "C(Learning_and_Teaching)[T.Good]                              -8.1288      3.144     -2.586      0.027     -15.134      -1.124\n",
            "C(Infrastructure_and_Operations)[T.Better]                    -5.3521      3.248     -1.648      0.130     -12.589       1.885\n",
            "C(Infrastructure_and_Operations)[T.Good]                      -7.3033      3.188     -2.291      0.045     -14.407      -0.200\n",
            "C(Governance_and_Administration)[T.Good]                      -7.6258      1.890     -4.035      0.002     -11.837      -3.414\n",
            "C(Student_Life_and_Engagement)[T.Good]                        -4.0529      1.978     -2.049      0.068      -8.461       0.355\n",
            "C(Sustainability_and_Environmental_Responsibility)[T.Good]    -4.9816      2.188     -2.277      0.046      -9.857      -0.106\n",
            "C(Cost)[T.Low]                                                10.9243      2.407      4.539      0.001       5.562      16.287\n",
            "C(Cost)[T.Medium]                                              8.5562      2.582      3.313      0.008       2.803      14.310\n",
            "==============================================================================\n",
            "Omnibus:                        0.844   Durbin-Watson:                   1.818\n",
            "Prob(Omnibus):                  0.656   Jarque-Bera (JB):                0.795\n",
            "Skew:                          -0.263   Prob(JB):                        0.672\n",
            "Kurtosis:                       2.176   Cond. No.                         9.70\n",
            "==============================================================================\n",
            "\n",
            "Notes:\n",
            "[1] Standard Errors assume that the covariance matrix of the errors is correctly specified.\n"
          ]
        }
      ]
    },
    {
      "cell_type": "code",
      "source": [
        "conjoint_attributes = ['Learning_and_Teaching','Infrastructure_and_Operations','Governance_and_Administration','Student_Life_and_Engagement','Sustainability_and_Environmental_Responsibility','Cost']"
      ],
      "metadata": {
        "id": "SIfg6xL6XC9E"
      },
      "execution_count": null,
      "outputs": []
    },
    {
      "cell_type": "code",
      "source": [
        "import numpy as np\n",
        "\n",
        "level_name = []\n",
        "part_worth = []\n",
        "part_worth_range = []\n",
        "important_levels = {}\n",
        "end = 1\n",
        "\n",
        "for item in conjoint_attributes:\n",
        "    nlevels = len(list(np.unique(data[item])))\n",
        "    level_name.append(list(np.unique(data[item])))\n",
        "\n",
        "    begin = end\n",
        "    end = begin + nlevels - 1\n",
        "\n",
        "    new_part_worth = list(model_fit.params[begin:end])\n",
        "    new_part_worth.append((-1) * sum(new_part_worth))\n",
        "    important_levels[item] = np.argmax(new_part_worth)\n",
        "    part_worth.append(new_part_worth)\n",
        "    print(item)\n",
        "\n",
        "    part_worth_range.append(max(new_part_worth) - min(new_part_worth))\n",
        "\n",
        "print(\"-------------------------------------------------------------\")\n",
        "print(\"level name:\")\n",
        "print(level_name)\n",
        "print(\"npw with sum element:\")\n",
        "print(new_part_worth)\n",
        "print(\"imp level:\")\n",
        "print(important_levels)\n",
        "print(\"part worth:\")\n",
        "print(part_worth)\n",
        "print(\"part_worth_range:\")\n",
        "print(part_worth_range)\n",
        "print(len(part_worth))\n",
        "print(\"important levels:\")\n",
        "print(important_levels)\n"
      ],
      "metadata": {
        "colab": {
          "base_uri": "https://localhost:8080/"
        },
        "id": "0aFR4K_NXFvJ",
        "outputId": "2b3b87d7-43bb-44e5-d721-9551a03a1c09"
      },
      "execution_count": null,
      "outputs": [
        {
          "output_type": "stream",
          "name": "stdout",
          "text": [
            "Learning_and_Teaching\n",
            "Infrastructure_and_Operations\n",
            "Governance_and_Administration\n",
            "Student_Life_and_Engagement\n",
            "Sustainability_and_Environmental_Responsibility\n",
            "Cost\n",
            "-------------------------------------------------------------\n",
            "level name:\n",
            "[['Best', 'Better', 'Good'], ['Best', 'Better', 'Good'], ['Excellent', 'Good'], ['Excellent', 'Good'], ['Excellent', 'Good'], ['High', 'Low', 'Medium']]\n",
            "npw with sum element:\n",
            "[10.924266773804751, 8.556247488951387, -19.480514262756138]\n",
            "imp level:\n",
            "{'Learning_and_Teaching': 2, 'Infrastructure_and_Operations': 2, 'Governance_and_Administration': 1, 'Student_Life_and_Engagement': 1, 'Sustainability_and_Environmental_Responsibility': 1, 'Cost': 0}\n",
            "part worth:\n",
            "[[-4.453327976429652, -8.12883353421723, 12.582161510646882], [-5.352082496317106, -7.30326771126289, 12.655350207579996], [-7.6258202758805576, 7.6258202758805576], [-4.052899424132857, 4.052899424132857], [-4.981585643498057, 4.981585643498057], [10.924266773804751, 8.556247488951387, -19.480514262756138]]\n",
            "part_worth_range:\n",
            "[20.710995044864113, 19.958617918842886, 15.251640551761115, 8.105798848265714, 9.963171286996115, 30.40478103656089]\n",
            "6\n",
            "important levels:\n",
            "{'Learning_and_Teaching': 2, 'Infrastructure_and_Operations': 2, 'Governance_and_Administration': 1, 'Student_Life_and_Engagement': 1, 'Sustainability_and_Environmental_Responsibility': 1, 'Cost': 0}\n"
          ]
        }
      ]
    },
    {
      "cell_type": "code",
      "source": [
        "attribute_importance = []\n",
        "for i in part_worth_range:\n",
        "\n",
        "    attribute_importance.append(round(100*(i/sum(part_worth_range)),2))\n",
        "print(attribute_importance)"
      ],
      "metadata": {
        "colab": {
          "base_uri": "https://localhost:8080/"
        },
        "id": "qedNXkh1XHZ1",
        "outputId": "8747fa34-33a5-4630-9781-aa428a603ca4"
      },
      "execution_count": null,
      "outputs": [
        {
          "output_type": "stream",
          "name": "stdout",
          "text": [
            "[19.84, 19.12, 14.61, 7.76, 9.54, 29.12]\n"
          ]
        }
      ]
    },
    {
      "cell_type": "code",
      "source": [
        "part_worth_dict={}\n",
        "attrib_level={}\n",
        "for item,i in zip(conjoint_attributes,range(0,len(conjoint_attributes))):\n",
        "    print(\"Attribute :\",item)\n",
        "    print(\"    Relative importance of attribute \",attribute_importance[i])\n",
        "    print(\"    Level wise part worths: \")\n",
        "    for j in range(0,len(level_name[i])):\n",
        "        print(i)\n",
        "        print(j)\n",
        "        print(\"          {}:{}\".format(level_name[i][j],part_worth[i][j]))\n",
        "        part_worth_dict[level_name[i][j]]=part_worth[i][j]\n",
        "        attrib_level[item]=(level_name[i])\n",
        "        #print(j)\n",
        "part_worth_dict"
      ],
      "metadata": {
        "colab": {
          "base_uri": "https://localhost:8080/"
        },
        "id": "CxhyL807XJ3h",
        "outputId": "a872567a-6d6a-4151-b6ab-3a6e973dccf6"
      },
      "execution_count": null,
      "outputs": [
        {
          "output_type": "stream",
          "name": "stdout",
          "text": [
            "Attribute : Learning_and_Teaching\n",
            "    Relative importance of attribute  19.84\n",
            "    Level wise part worths: \n",
            "0\n",
            "0\n",
            "          Best:-4.453327976429652\n",
            "0\n",
            "1\n",
            "          Better:-8.12883353421723\n",
            "0\n",
            "2\n",
            "          Good:12.582161510646882\n",
            "Attribute : Infrastructure_and_Operations\n",
            "    Relative importance of attribute  19.12\n",
            "    Level wise part worths: \n",
            "1\n",
            "0\n",
            "          Best:-5.352082496317106\n",
            "1\n",
            "1\n",
            "          Better:-7.30326771126289\n",
            "1\n",
            "2\n",
            "          Good:12.655350207579996\n",
            "Attribute : Governance_and_Administration\n",
            "    Relative importance of attribute  14.61\n",
            "    Level wise part worths: \n",
            "2\n",
            "0\n",
            "          Excellent:-7.6258202758805576\n",
            "2\n",
            "1\n",
            "          Good:7.6258202758805576\n",
            "Attribute : Student_Life_and_Engagement\n",
            "    Relative importance of attribute  7.76\n",
            "    Level wise part worths: \n",
            "3\n",
            "0\n",
            "          Excellent:-4.052899424132857\n",
            "3\n",
            "1\n",
            "          Good:4.052899424132857\n",
            "Attribute : Sustainability_and_Environmental_Responsibility\n",
            "    Relative importance of attribute  9.54\n",
            "    Level wise part worths: \n",
            "4\n",
            "0\n",
            "          Excellent:-4.981585643498057\n",
            "4\n",
            "1\n",
            "          Good:4.981585643498057\n",
            "Attribute : Cost\n",
            "    Relative importance of attribute  29.12\n",
            "    Level wise part worths: \n",
            "5\n",
            "0\n",
            "          High:10.924266773804751\n",
            "5\n",
            "1\n",
            "          Low:8.556247488951387\n",
            "5\n",
            "2\n",
            "          Medium:-19.480514262756138\n"
          ]
        },
        {
          "output_type": "execute_result",
          "data": {
            "text/plain": [
              "{'Best': -5.352082496317106,\n",
              " 'Better': -7.30326771126289,\n",
              " 'Good': 4.981585643498057,\n",
              " 'Excellent': -4.981585643498057,\n",
              " 'High': 10.924266773804751,\n",
              " 'Low': 8.556247488951387,\n",
              " 'Medium': -19.480514262756138}"
            ]
          },
          "metadata": {},
          "execution_count": 10
        }
      ]
    },
    {
      "cell_type": "code",
      "source": [
        "import matplotlib.pyplot as plt\n",
        "import seaborn as sns\n",
        "\n",
        "\n"
      ],
      "metadata": {
        "id": "Z5S5C3PKXM-t"
      },
      "execution_count": null,
      "outputs": []
    },
    {
      "cell_type": "code",
      "source": [
        "plt.figure(figsize=(10,5))\n",
        "sns.barplot(x=conjoint_attributes,y=attribute_importance)\n",
        "plt.title('Relative importance of attributes')\n",
        "plt.xlabel('Attributes')\n",
        "plt.ylabel('Importance')"
      ],
      "metadata": {
        "colab": {
          "base_uri": "https://localhost:8080/",
          "height": 395
        },
        "id": "hfNoWWPtXP6l",
        "outputId": "0ff0c2cf-0e6a-4635-b0e8-f7bd3f2b97af"
      },
      "execution_count": null,
      "outputs": [
        {
          "output_type": "execute_result",
          "data": {
            "text/plain": [
              "Text(0, 0.5, 'Importance')"
            ]
          },
          "metadata": {},
          "execution_count": 12
        },
        {
          "output_type": "display_data",
          "data": {
            "text/plain": [
              "<Figure size 1000x500 with 1 Axes>"
            ],
            "image/png": "[encoded data removed]"
          },
          "metadata": {}
        }
      ]
    },
    {
      "cell_type": "code",
      "source": [
        "utility = []\n",
        "for i in range(data.shape[0]):\n",
        "    score = part_worth_dict[data['Learning_and_Teaching'][i]]+part_worth_dict[data['Infrastructure_and_Operations'][i]] + part_worth_dict[data['Governance_and_Administration'][i]]+part_worth_dict[data['Student_Life_and_Engagement'][i]] + part_worth_dict[data['Sustainability_and_Environmental_Responsibility'][i]]+part_worth_dict[data['Cost'][i]]\n",
        "    utility.append(score)\n",
        "\n",
        "data['utility'] = utility\n",
        "utility"
      ],
      "metadata": {
        "colab": {
          "base_uri": "https://localhost:8080/"
        },
        "id": "u82oHza4XR22",
        "outputId": "31f2f2e5-13cc-464b-8e22-c0445f661794"
      },
      "execution_count": null,
      "outputs": [
        {
          "output_type": "execute_result",
          "data": {
            "text/plain": [
              "[-45.12943618588452,\n",
              " 0.8824829248694481,\n",
              " 15.53535556448376,\n",
              " -27.154278826838077,\n",
              " 5.201687424668597,\n",
              " -49.03180661577609,\n",
              " 11.216151064684611,\n",
              " -27.154278826838077,\n",
              " 1.2529797776884966,\n",
              " -18.6270255792152,\n",
              " 3.204164992634281,\n",
              " -11.031873577072451,\n",
              " -36.74695326101514,\n",
              " 3.620999062541861,\n",
              " 3.204164992634281,\n",
              " 11.216151064684611,\n",
              " -24.832596759073244,\n",
              " 3.2505022097228125,\n",
              " 8.894468996919779,\n",
              " -11.031873577072451]"
            ]
          },
          "metadata": {},
          "execution_count": 13
        }
      ]
    },
    {
      "cell_type": "code",
      "source": [
        "print(\"The profile that has the highest utility score :\",'\\n', data.iloc[np.argmax(utility)])"
      ],
      "metadata": {
        "colab": {
          "base_uri": "https://localhost:8080/"
        },
        "id": "XKZWG4yBXUk6",
        "outputId": "0b9fed91-d134-48cb-fd9f-90f224210eca"
      },
      "execution_count": null,
      "outputs": [
        {
          "output_type": "stream",
          "name": "stdout",
          "text": [
            "The profile that has the highest utility score : \n",
            " Learning_and_Teaching                                   Best\n",
            "Infrastructure_and_Operations                           Good\n",
            "Governance_and_Administration                           Good\n",
            "Student_Life_and_Engagement                             Good\n",
            "Sustainability_and_Environmental_Responsibility    Excellent\n",
            "Cost                                                    High\n",
            "Rating                                                    65\n",
            "utility                                            15.535356\n",
            "Name: 2, dtype: object\n"
          ]
        }
      ]
    },
    {
      "cell_type": "code",
      "source": [
        "data['utility'].plot.bar()\n",
        "plt.show()"
      ],
      "metadata": {
        "colab": {
          "base_uri": "https://localhost:8080/",
          "height": 434
        },
        "id": "XEAHrXNoXWrR",
        "outputId": "3c18452b-0e56-4fa8-a206-e17f087b2d38"
      },
      "execution_count": null,
      "outputs": [
        {
          "output_type": "display_data",
          "data": {
            "text/plain": [
              "<Figure size 640x480 with 1 Axes>"
            ],
            "image/png": "[encoded data removed]"
          },
          "metadata": {}
        }
      ]
    },
    {
      "cell_type": "code",
      "source": [
        "for i,j in zip(attrib_level.keys(),range(0,len(conjoint_attributes))):\n",
        "\n",
        "    print(\"Preferred level in {} is :: {}\".format(i,level_name[j][important_levels[i]]))"
      ],
      "metadata": {
        "colab": {
          "base_uri": "https://localhost:8080/"
        },
        "id": "uN7CkHNFXY1v",
        "outputId": "10f61c80-7299-41cf-f4c7-4b8d9826f0a1"
      },
      "execution_count": null,
      "outputs": [
        {
          "output_type": "stream",
          "name": "stdout",
          "text": [
            "Preferred level in Learning_and_Teaching is :: Good\n",
            "Preferred level in Infrastructure_and_Operations is :: Good\n",
            "Preferred level in Governance_and_Administration is :: Good\n",
            "Preferred level in Student_Life_and_Engagement is :: Good\n",
            "Preferred level in Sustainability_and_Environmental_Responsibility is :: Good\n",
            "Preferred level in Cost is :: High\n"
          ]
        }
      ]
    },
    {
      "cell_type": "code",
      "source": [],
      "metadata": {
        "id": "Z5uIDrcyXbfu"
      },
      "execution_count": null,
      "outputs": []
    }
  ]
}