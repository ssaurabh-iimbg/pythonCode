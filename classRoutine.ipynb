{
  "nbformat": 4,
  "nbformat_minor": 0,
  "metadata": {
    "colab": {
      "provenance": [],
      "authorship_tag": "ABX9TyMWy7Q7CcxZb+P5SLnjGlRt",
      "include_colab_link": true
    },
    "kernelspec": {
      "name": "python3",
      "display_name": "Python 3"
    },
    "language_info": {
      "name": "python"
    }
  },
  "cells": [
    {
      "cell_type": "markdown",
      "metadata": {
        "id": "view-in-github",
        "colab_type": "text"
      },
      "source": [
        "<a href=\"https://colab.research.google.com/github/ssaurabh-iimbg/pythonCode/blob/main/classRoutine.ipynb\" target=\"_parent\"><img src=\"https://colab.research.google.com/assets/colab-badge.svg\" alt=\"Open In Colab\"/></a>"
      ]
    },
    {
      "cell_type": "code",
      "source": [
        "from datetime import datetime\n",
        "\n",
        "def populate_datetime(date_str):\n",
        "  \"\"\"\n",
        "  Populates a datetime object from a string.\n",
        "\n",
        "  Args:\n",
        "    date_str: A string representing the date and time in a valid format.\n",
        "\n",
        "  Returns:\n",
        "    A datetime object representing the parsed date and time.\n",
        "  \"\"\"\n",
        "\n",
        "  # Define the format of the date string\n",
        "  #date_format = \"%Y-%m-%d %H:%M:%S\"\n",
        "  date_format = \"%d-%m-%Y %H:%M\"\n",
        "\n",
        "  # Parse the date string and create a datetime object\n",
        "  try:\n",
        "    date_obj = datetime.strptime(date_str, date_format)\n",
        "  except ValueError as e:\n",
        "    raise ValueError(\"Invalid date string format. Expected format: DD-MM-YYYY HH:MM\") from e\n",
        "\n",
        "  return date_obj\n",
        "\n",
        "def populate_datetime2(date_str):\n",
        "  \"\"\"\n",
        "  Populates a datetime object from a string.\n",
        "\n",
        "  Args:\n",
        "    date_str: A string representing the date and time in a valid format.\n",
        "\n",
        "  Returns:\n",
        "    A datetime object representing the parsed date and time.\n",
        "  \"\"\"\n",
        "\n",
        "  # Define the format of the date string\n",
        "  #date_format = \"%Y-%m-%d %H:%M:%S\"\n",
        "  date_format = \"%d-%m-%y %H:%M\"\n",
        "\n",
        "  # Parse the date string and create a datetime object\n",
        "  try:\n",
        "    date_obj = datetime.strptime(date_str, date_format)\n",
        "  except ValueError as e:\n",
        "    raise ValueError(\"Invalid date string format. Expected format: DD-MM-YYYY HH:MM\") from e\n",
        "\n",
        "  return date_obj\n",
        "\n",
        "# Example usage\n",
        "date_str1 = \"20-04-2024 10:30\"\n",
        "date_str2 = \"10-04-24 10:30\"\n",
        "date_obj1 = populate_datetime(date_str1)\n",
        "date_obj2 = populate_datetime2(date_str2)\n",
        "print(date_obj1)\n",
        "print(date_obj2)"
      ],
      "metadata": {
        "colab": {
          "base_uri": "https://localhost:8080/"
        },
        "id": "fWIXdtvAhHWk",
        "outputId": "8a354969-34c2-4719-e1e4-10ccb33f22d5"
      },
      "execution_count": 9,
      "outputs": [
        {
          "output_type": "stream",
          "name": "stdout",
          "text": [
            "2024-04-20 10:30:00\n",
            "2024-04-10 10:30:00\n"
          ]
        }
      ]
    },
    {
      "cell_type": "code",
      "source": [
        "from datetime import datetime\n",
        "def time_slots_intersect(slot1_start, slot1_end, slot2_start, slot2_end):\n",
        "  \"\"\"\n",
        "  Checks if two time slots intersect with each other.\n",
        "\n",
        "  Args:\n",
        "    slot1_start: Start time of the first time slot (datetime object).\n",
        "    slot1_end: End time of the first time slot (datetime object).\n",
        "    slot2_start: Start time of the second time slot (datetime object).\n",
        "    slot2_end: End time of the second time slot (datetime object).\n",
        "\n",
        "  Returns:\n",
        "    True if the two time slots intersect, False otherwise.\n",
        "  \"\"\"\n",
        "\n",
        "  # Check if the start of slot2 is between the start and end of slot1\n",
        "  if slot2_start >= slot1_start and slot2_start < slot1_end:\n",
        "    return True\n",
        "\n",
        "  # Check if the end of slot2 is between the start and end of slot1\n",
        "  if slot2_end > slot1_start and slot2_end <= slot1_end:\n",
        "    return True\n",
        "\n",
        "  # Check if slot1 is completely within slot2\n",
        "  if slot1_start >= slot2_start and slot1_end <= slot2_end:\n",
        "    return True\n",
        "\n",
        "  # Otherwise, the time slots do not intersect\n",
        "  return False\n",
        "\n",
        "# Example usage\n",
        "slot1_start = populate_datetime(\"20-05-2024 15:00\")\n",
        "slot1_end = populate_datetime(\"20-05-2024 16:30\")\n",
        "slot2_start = populate_datetime(\"20-05-2024 14:30\")\n",
        "slot2_end = populate_datetime(\"20-05-2024 15:05\")\n",
        "\n",
        "if time_slots_intersect(slot1_start, slot1_end, slot2_start, slot2_end):\n",
        "  print(\"Time slots intersect\")\n",
        "else:\n",
        "  print(\"Time slots do not intersect\")"
      ],
      "metadata": {
        "colab": {
          "base_uri": "https://localhost:8080/"
        },
        "id": "wCMz_3kFi18s",
        "outputId": "171c1c7c-9b9c-498f-8aa8-df252cb33316"
      },
      "execution_count": 16,
      "outputs": [
        {
          "output_type": "stream",
          "name": "stdout",
          "text": [
            "Time slots intersect\n"
          ]
        }
      ]
    },
    {
      "cell_type": "code",
      "source": [
        "import enum\n",
        "\n",
        "class DayOfWeek(enum.Enum):\n",
        "    MONDAY = \"Monday\"\n",
        "    TUESDAY = \"Tuesday\"\n",
        "    WEDNESDAY = \"Wednesday\"\n",
        "    THURSDAY = \"Thursday\"\n",
        "    FRIDAY = \"Friday\"\n",
        "    SATURDAY = \"Saturday\"\n",
        "    SUNDAY = \"Sunday\"\n",
        "\n",
        "class ProgramName(enum.Enum):\n",
        "    MBA01SECA = \"MBA01SECA\"\n",
        "    MBA01SECB = \"MBA01SECB\"\n",
        "    MBA01SECC = \"MBA01SECC\"\n",
        "    MBA01SECD = \"MBA01SECD\"\n",
        "    DBM01 = \"DBM01\"\n",
        "    DBM02 = \"DBM02\"\n",
        "    HHM01 = \"HHM01\"\n",
        "    HHM02 = \"HHM02\"\n",
        "    IPM01SECA = \"IPM01SECA\"\n",
        "    IPM01SECB = \"IPM01SECB\"\n",
        "    IPM02SECA = \"IPM02SECA\"\n",
        "    IPM02SECB = \"IPM02SECB\"\n",
        "    IPM03SECA = \"IPM03SECA\"\n",
        "    IPM03SECB = \"IPM03SECB\"\n",
        "\n",
        "class Year(enum.Enum):\n",
        "    FIRST = 1\n",
        "    SECOND = 2\n",
        "    THIRD = 3\n",
        "\n",
        "class SectionName(enum.Enum):\n",
        "    A = \"A\"\n",
        "    B = \"B\"\n",
        "    C = \"C\"\n",
        "    D = \"D\"\n"
      ],
      "metadata": {
        "id": "0ZK8qQkRvmKT"
      },
      "execution_count": 20,
      "outputs": []
    },
    {
      "cell_type": "code",
      "source": [
        "import datetime\n",
        "import re\n",
        "\n",
        "class ClassObj:\n",
        "    def __init__(self, courseName, facultyName, startTimeStr, endTimeStr, programName):\n",
        "        # Parse the start and end times into datetime objects\n",
        "        self.timeSlot = (\n",
        "            datetime.datetime.strptime(startTimeStr, \"%d-%m-%Y %H:%M\"),\n",
        "            datetime.datetime.strptime(endTimeStr, \"%d-%m-%Y %H:%M\")\n",
        "        )\n",
        "        self.startTime = datetime.datetime.strptime(startTimeStr, \"%d-%m-%Y %H:%M\")\n",
        "        self.endTime = datetime.datetime.strptime(endTimeStr, \"%d-%m-%Y %H:%M\")\n",
        "\n",
        "        self.courseName = courseName\n",
        "        self.facultyName = facultyName\n",
        "        self.programName = programName\n",
        "        self.program, self.year, self.section = self.parse_program_name_demlim_(programName)\n",
        "\n",
        "    def parse_program_name_demlim_(self, programName):\n",
        "        # Split the program name by \"_\"\n",
        "        parts = programName.split(\"_\")\n",
        "\n",
        "        # Extract program, year, and section\n",
        "        if len(parts) == 3:\n",
        "            program = parts[0]\n",
        "            year = parts[1]\n",
        "            section = parts[2]\n",
        "        elif len(parts) == 2:\n",
        "            program = parts[0]\n",
        "            year = parts[1]\n",
        "            section = None\n",
        "        else:\n",
        "            raise ValueError(\"Invalid program name format\")\n",
        "\n",
        "        return program, year, section\n",
        "\n",
        "    def parse_program_name(self, programName):\n",
        "        # Use a regular expression to extract program, year, and section\n",
        "        match = re.match(r\"^([A-Z]{3})(\\d{2})(.*)$\", programName)\n",
        "\n",
        "        if match:\n",
        "            program = match.group(1)\n",
        "            year = match.group(2)\n",
        "            section = match.group(3)\n",
        "\n",
        "            # If section is empty, set it to \"Node\"\n",
        "            if not section:\n",
        "                section = None\n",
        "\n",
        "            return program, year, section\n",
        "        else:\n",
        "            raise ValueError(\"Invalid program name format\")\n",
        "\n",
        "\n",
        "    def display(self):\n",
        "        print(\"Course Name:\", self.courseName)\n",
        "        print(\"Faculty Name:\", self.facultyName)\n",
        "        print(\"Time Slot:\", self.timeSlot[0].strftime(\"%d-%m-%Y %H:%M\") + \" - \" + self.timeSlot[1].strftime(\"%d-%m-%Y %H:%M\"))\n",
        "        print(\"Program Name:\", self.programName)\n",
        "        print(\"Program:\", self.program)\n",
        "        print(\"Year:\", self.year)\n",
        "        print(\"Section:\", self.section)\n",
        "\n",
        "# Example usage\n",
        "courseObj = ClassObj(courseName= \"Introduction to Python\", facultyName=\"John Doe\", startTimeStr= \"10-04-2023 10:30\", endTimeStr=\"10-04-2023 11:30\", programName=\"MBADBM_01_SECA\")\n",
        "courseObj.display()"
      ],
      "metadata": {
        "colab": {
          "base_uri": "https://localhost:8080/"
        },
        "id": "SKzlbiL9fAod",
        "outputId": "72716c06-6053-43a2-ded4-8f64a18af0c6"
      },
      "execution_count": 27,
      "outputs": [
        {
          "output_type": "stream",
          "name": "stdout",
          "text": [
            "Course Name: Introduction to Python\n",
            "Faculty Name: John Doe\n",
            "Time Slot: 10-04-2023 10:30 - 10-04-2023 11:30\n",
            "Program Name: MBADBM_01_SECA\n",
            "Program: MBADBM\n",
            "Year: 01\n",
            "Section: SECA\n"
          ]
        }
      ]
    },
    {
      "cell_type": "code",
      "source": [
        "class Faculty:\n",
        "    def __init__(self, facultyName, facultyEmail):\n",
        "        self.facultyName = facultyName\n",
        "        self.facultyEmail = facultyEmail\n",
        "        self.courseList = []\n",
        "\n",
        "    def insert_course(self, courseObj):\n",
        "        self.courseList.append(courseObj)\n",
        "\n",
        "\n",
        "    def display_courses(self):\n",
        "        print(\"Courses for\", self.facultyName)\n",
        "        for course in self.courseList:\n",
        "            print(\"- Course Name:\", course.courseName)\n",
        "            print(\"  Time Slot:\", course.timeSlot[0].strftime(\"%d-%m-%Y %H:%M\") + \" - \" + course.timeSlot[1].strftime(\"%d-%m-%Y %H:%M\"))\n",
        "            print(\"  Program:\", course.program)\n",
        "            print(\"  Year:\", course.year)\n",
        "            print(\"  Section:\", course.section)\n",
        "\n",
        "    def are_classes_non_intersecting(self):\n",
        "        # Sort the courses by start time\n",
        "        self.courseList.sort(key=lambda course: course.timeSlot[0])\n",
        "\n",
        "        # Check for intersections\n",
        "        for i in range(1, len(self.courseList)):\n",
        "            prev_course = self.courseList[i-1]\n",
        "            curr_course = self.courseList[i]\n",
        "\n",
        "            if curr_course.timeSlot[0] < prev_course.timeSlot[1]:\n",
        "                return False\n",
        "\n",
        "        return True\n",
        "\n",
        "# Example usage\n",
        "faculty = Faculty(\"John Doe\", \"john.doe@example.com\")\n",
        "\n",
        "# Create a course object\n",
        "courseObj1 = ClassObj(\"Introduction to Python\", \"John Doe\", \"20-05-2024 10:30\",  \"20-05-2024 11:30\", \"CSC_23_SECA\")\n",
        "# Create a course object\n",
        "courseObj2 = ClassObj(\"Introduction to Data Science\", \"John Doe\", \"20-05-2024 13:30\",  \"20-05-2024 14:30\", \"CSC_23_SECB\")\n",
        "courseObj3 = ClassObj(\"Introduction to Data Analytics\", \"John Doe\", \"20-05-2024 14:45\",  \"20-05-2024 15:30\", \"CSC_23_SECA\")\n",
        "courseObj4 = ClassObj(\"Introduction to Story Telling with Data\", \"John Doe\", \"21-05-2024 10:30\",  \"21-05-2024 11:30\", \"CSC_23_SECA\")\n",
        "\n",
        "# Insert the course object into the faculty's list of courses\n",
        "faculty.insert_course(courseObj1)\n",
        "faculty.insert_course(courseObj2)\n",
        "faculty.insert_course(courseObj3)\n",
        "faculty.insert_course(courseObj4)\n",
        "\n",
        "# Print the faculty's information\n",
        "print(\"Faculty Name:\", faculty.facultyName)\n",
        "print(\"Faculty Email:\", faculty.facultyEmail)\n",
        "print(\"Number of Courses:\", len(faculty.courseList))\n",
        "print(faculty.display_courses())\n",
        "faculty.are_classes_non_intersecting()"
      ],
      "metadata": {
        "colab": {
          "base_uri": "https://localhost:8080/"
        },
        "id": "tpEDeZ2RBba3",
        "outputId": "d1b6d701-b801-442d-d894-d56c7679e49b"
      },
      "execution_count": 35,
      "outputs": [
        {
          "output_type": "stream",
          "name": "stdout",
          "text": [
            "Faculty Name: John Doe\n",
            "Faculty Email: john.doe@example.com\n",
            "Number of Courses: 4\n",
            "Courses for John Doe\n",
            "- Course Name: Introduction to Python\n",
            "  Time Slot: 20-05-2024 10:30 - 20-05-2024 11:30\n",
            "  Program: CSC\n",
            "  Year: 23\n",
            "  Section: SECA\n",
            "- Course Name: Introduction to Data Science\n",
            "  Time Slot: 20-05-2024 13:30 - 20-05-2024 14:30\n",
            "  Program: CSC\n",
            "  Year: 23\n",
            "  Section: SECB\n",
            "- Course Name: Introduction to Data Analytics\n",
            "  Time Slot: 20-05-2024 14:45 - 20-05-2024 15:30\n",
            "  Program: CSC\n",
            "  Year: 23\n",
            "  Section: SECA\n",
            "- Course Name: Introduction to Story Telling with Data\n",
            "  Time Slot: 21-05-2024 10:30 - 21-05-2024 11:30\n",
            "  Program: CSC\n",
            "  Year: 23\n",
            "  Section: SECA\n",
            "None\n"
          ]
        },
        {
          "output_type": "execute_result",
          "data": {
            "text/plain": [
              "True"
            ]
          },
          "metadata": {},
          "execution_count": 35
        }
      ]
    }
  ]
}